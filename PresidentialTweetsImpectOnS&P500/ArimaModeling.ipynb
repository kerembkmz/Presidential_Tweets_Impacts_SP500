{
 "cells": [
  {
   "cell_type": "code",
   "outputs": [],
   "source": [
    "import pandas as pd\n",
    "import numpy as np\n",
    "from statsmodels.tsa.arima.model import ARIMA\n",
    "from pmdarima import auto_arima\n",
    "from sklearn.metrics import mean_squared_error, mean_absolute_error, r2_score\n",
    "import warnings\n",
    "warnings.filterwarnings(\"ignore\")\n",
    "import warnings\n",
    "\n",
    "file_path = '/Users/keremsmacbook/Desktop/42/gitHub/Presidential_Tweets_Impacts_SP500/PresidentialTweetsImpectOnS&P500/Data/Processed/aligned_dataset.csv'\n",
    "aligned_dataset = pd.read_csv(file_path)\n",
    "\n",
    "aligned_dataset['Date'] = pd.to_datetime(aligned_dataset['Date'])\n",
    "aligned_dataset.sort_values('Date', inplace=True)\n",
    "aligned_dataset.set_index('Date', inplace=True)\n",
    "\n",
    "train_size = int(len(aligned_dataset) * 0.8)\n",
    "train_data = aligned_dataset.iloc[:train_size]\n",
    "test_data = aligned_dataset.iloc[train_size:]\n"
   ],
   "metadata": {
    "collapsed": false,
    "ExecuteTime": {
     "end_time": "2024-12-15T06:35:21.363168Z",
     "start_time": "2024-12-15T06:35:21.336524Z"
    }
   },
   "id": "f6750029d694f7e5",
   "execution_count": 24
  },
  {
   "cell_type": "code",
   "outputs": [
    {
     "name": "stdout",
     "output_type": "stream",
     "text": [
      "                        Close  avg_vader_sentiment\n",
      "Close                1.000000            -0.090787\n",
      "avg_vader_sentiment -0.090787             1.000000\n"
     ]
    }
   ],
   "source": [
    "print(train_data[['Close', 'avg_vader_sentiment']].corr())"
   ],
   "metadata": {
    "collapsed": false,
    "ExecuteTime": {
     "end_time": "2024-12-15T06:35:46.649012Z",
     "start_time": "2024-12-15T06:35:46.641626Z"
    }
   },
   "id": "385b6e8edb845f7b",
   "execution_count": 26
  },
  {
   "cell_type": "code",
   "outputs": [
    {
     "name": "stdout",
     "output_type": "stream",
     "text": [
      "                         Close  avg_finbert_sentiment\n",
      "Close                  1.00000               -0.07586\n",
      "avg_finbert_sentiment -0.07586                1.00000\n"
     ]
    }
   ],
   "source": [
    "print(train_data[['Close', 'avg_finbert_sentiment']].corr())"
   ],
   "metadata": {
    "collapsed": false,
    "ExecuteTime": {
     "end_time": "2024-12-15T06:35:58.278234Z",
     "start_time": "2024-12-15T06:35:58.273220Z"
    }
   },
   "id": "2aaf51885dd90454",
   "execution_count": 27
  },
  {
   "cell_type": "code",
   "outputs": [
    {
     "name": "stdout",
     "output_type": "stream",
     "text": [
      "Scenario 1: Only Close\n",
      "\n",
      "Metrics for Close with exog=None:\n",
      "MSE: 773893.15, RMSE: 879.71, MAE: 815.64, MAPE: nan%, R²: -5.81\n",
      "\n",
      "Scenario 2: Close + avg_vader_sentiment\n",
      "\n",
      "Metrics for Close with exog=['avg_vader_sentiment']:\n",
      "MSE: 773893.15, RMSE: 879.71, MAE: 815.64, MAPE: nan%, R²: -5.81\n",
      "\n",
      "Scenario 3: Close + avg_finbert_sentiment\n",
      "\n",
      "Metrics for Close with exog=['avg_finbert_sentiment']:\n",
      "MSE: 773893.15, RMSE: 879.71, MAE: 815.64, MAPE: nan%, R²: -5.81\n"
     ]
    }
   ],
   "source": [
    "def calculate_metrics(actual, predicted):\n",
    "    mse = mean_squared_error(actual, predicted)\n",
    "    rmse = np.sqrt(mse)\n",
    "    mae = mean_absolute_error(actual, predicted)\n",
    "    mape = np.mean(np.abs((actual - predicted) / actual)) * 100\n",
    "    r2 = r2_score(actual, predicted)\n",
    "    return mse, rmse, mae, mape, r2\n",
    "\n",
    "def run_auto_arima(train, test, target_column, exog_columns=None):\n",
    "    if exog_columns:\n",
    "        model = auto_arima(\n",
    "            train[target_column],\n",
    "            exogenous=train[exog_columns],\n",
    "            seasonal=False,\n",
    "            stepwise=True,\n",
    "            suppress_warnings=True\n",
    "        )\n",
    "    else:\n",
    "        model = auto_arima(\n",
    "            train[target_column],\n",
    "            seasonal=False,\n",
    "            stepwise=True,\n",
    "            suppress_warnings=True\n",
    "        )\n",
    "\n",
    "    if exog_columns:\n",
    "        forecast = model.predict(n_periods=len(test), exogenous=test[exog_columns])\n",
    "    else:\n",
    "        forecast = model.predict(n_periods=len(test))\n",
    "\n",
    "    mse, rmse, mae, mape, r2 = calculate_metrics(test[target_column], forecast)\n",
    "    print(f\"\\nMetrics for {target_column} with exog={exog_columns or 'None'}:\")\n",
    "    print(f\"MSE: {mse:.2f}, RMSE: {rmse:.2f}, MAE: {mae:.2f}, MAPE: {mape:.2f}%, R²: {r2:.2f}\")\n",
    "\n",
    "    return model, forecast\n",
    "\n",
    "\n",
    "\n",
    "\n",
    "print(\"Scenario 1: Only Close\")\n",
    "arima_close, forecast_close = run_auto_arima(train_data, test_data, target_column='Close')\n",
    "\n",
    "print(\"\\nScenario 2: Close + avg_vader_sentiment\")\n",
    "arima_close_vader, forecast_close_vader = run_auto_arima(\n",
    "    train_data, test_data, target_column='Close', exog_columns=['avg_vader_sentiment']\n",
    ")\n",
    "\n",
    "print(\"\\nScenario 3: Close + avg_finbert_sentiment\")\n",
    "arima_close_finbert, forecast_close_finbert = run_auto_arima(\n",
    "    train_data, test_data, target_column='Close', exog_columns=['avg_finbert_sentiment']\n",
    ")"
   ],
   "metadata": {
    "collapsed": false,
    "ExecuteTime": {
     "end_time": "2024-12-15T06:40:39.851495Z",
     "start_time": "2024-12-15T06:40:26.319001Z"
    }
   },
   "id": "55821b7960c5ea12",
   "execution_count": 30
  }
 ],
 "metadata": {
  "kernelspec": {
   "display_name": "Python 3",
   "language": "python",
   "name": "python3"
  },
  "language_info": {
   "codemirror_mode": {
    "name": "ipython",
    "version": 2
   },
   "file_extension": ".py",
   "mimetype": "text/x-python",
   "name": "python",
   "nbconvert_exporter": "python",
   "pygments_lexer": "ipython2",
   "version": "2.7.6"
  }
 },
 "nbformat": 4,
 "nbformat_minor": 5
}
