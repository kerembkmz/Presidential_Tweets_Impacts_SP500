{
 "cells": [
  {
   "cell_type": "code",
   "execution_count": 46,
   "id": "initial_id",
   "metadata": {
    "collapsed": true,
    "ExecuteTime": {
     "end_time": "2024-12-14T14:41:19.452086Z",
     "start_time": "2024-12-14T14:41:18.972132Z"
    }
   },
   "outputs": [],
   "source": [
    "import re\n",
    "import pandas as pd\n",
    "\n",
    "def clean_text(text):\n",
    "    if pd.isnull(text):\n",
    "        return None\n",
    "    text = re.sub(r\"http\\S+|www\\S+|https\\S+\", '', text, flags=re.MULTILINE)\n",
    "    text = re.sub(r'\\@\\w+|\\#', '', text)  \n",
    "    text = re.sub(r'[^\\w\\s]', '', text)  \n",
    "    text = text.lower() \n",
    "    return text\n",
    "\n",
    "\n",
    "tweets = pd.read_csv('/Users/keremsmacbook/Desktop/42/gitHub/Presidential_Tweets_Impacts_SP500/PresidentialTweetsImpectOnS&P500/Data/Raw/DonaldTrumpTweets.csv')\n",
    "tweets['text'] = tweets['text'].apply(clean_text)\n",
    "\n",
    "tweets = tweets.dropna(subset=['text'])  \n",
    "tweets = tweets[tweets['text'].str.strip() != '']\n",
    "\n",
    "tweets['Date'] = pd.to_datetime(tweets['date'], errors='coerce').dt.date\n",
    "tweets = tweets.dropna(subset=['Date'])"
   ]
  },
  {
   "cell_type": "code",
   "outputs": [],
   "source": [
    "output_path = '/Users/keremsmacbook/Desktop/42/gitHub/Presidential_Tweets_Impacts_SP500/PresidentialTweetsImpectOnS&P500/Data/Processed/DonaldTrumpTweets_Cleaned.csv'\n",
    "tweets.to_csv(output_path, index=False)"
   ],
   "metadata": {
    "collapsed": false,
    "ExecuteTime": {
     "end_time": "2024-12-14T14:41:24.699242Z",
     "start_time": "2024-12-14T14:41:24.500161Z"
    }
   },
   "id": "42638d6d18242df",
   "execution_count": 47
  },
  {
   "cell_type": "code",
   "outputs": [],
   "source": [
    "from vaderSentiment.vaderSentiment import SentimentIntensityAnalyzer\n",
    "\n",
    "analyzer = SentimentIntensityAnalyzer()\n",
    "tweets['VaderSentiment'] = tweets['text'].apply(lambda x: analyzer.polarity_scores(x)['compound'])\n",
    "\n",
    "daily_sentiment = tweets.groupby('Date').agg(\n",
    "    number_of_tweets=('text', 'count'),\n",
    "    avg_vader_sentiment_score=('VaderSentiment', 'mean')\n",
    ").reset_index()\n",
    "\n",
    "\n",
    "output_path = '/Users/keremsmacbook/Desktop/42/gitHub/Presidential_Tweets_Impacts_SP500/PresidentialTweetsImpectOnS&P500/Data/Processed/daily_vader_sentiment.csv'\n",
    "daily_sentiment.to_csv(output_path, index=False)"
   ],
   "metadata": {
    "collapsed": false,
    "ExecuteTime": {
     "end_time": "2024-12-14T14:42:19.846099Z",
     "start_time": "2024-12-14T14:42:16.967311Z"
    }
   },
   "id": "bbd159f4d6cc4d8e",
   "execution_count": 49
  },
  {
   "cell_type": "code",
   "outputs": [
    {
     "name": "stdout",
     "output_type": "stream",
     "text": [
      "True\n"
     ]
    }
   ],
   "source": [
    "import torch\n",
    "print(torch.backends.mps.is_available())  # Should return True"
   ],
   "metadata": {
    "collapsed": false,
    "ExecuteTime": {
     "end_time": "2024-12-14T14:42:21.750086Z",
     "start_time": "2024-12-14T14:42:21.746622Z"
    }
   },
   "id": "ee8640a70bad004b",
   "execution_count": 50
  },
  {
   "cell_type": "code",
   "outputs": [
    {
     "name": "stderr",
     "output_type": "stream",
     "text": [
      "Processing FinBERT Sentiments: 100%|██████████| 432/432 [18:57<00:00,  2.63s/it]\n"
     ]
    }
   ],
   "source": [
    "from transformers import pipeline\n",
    "import torch\n",
    "from tqdm import tqdm\n",
    "\n",
    "if torch.backends.mps.is_available():\n",
    "    device = \"mps\"\n",
    "else:\n",
    "    device = \"cpu\"\n",
    "\n",
    "finbert = pipeline(\"sentiment-analysis\", model=\"yiyanghkust/finbert-tone\", device=0 if device == \"mps\" else -1)\n",
    "\n",
    "\n",
    "def get_sentiment_score(output):\n",
    "    \"\"\"\n",
    "    Map FinBERT output to a sentiment score.\n",
    "    - Positive: Return score as is.\n",
    "    - Negative: Return negative score.\n",
    "    - Neutral: Return 0.\n",
    "    \"\"\"\n",
    "    label = output['label']\n",
    "    score = output['score']\n",
    "    if label == 'Positive':\n",
    "        return score\n",
    "    elif label == 'Negative':\n",
    "        return -score\n",
    "    else:  # label == Neutral\n",
    "        return 0\n",
    "\n",
    "def process_in_batches(texts, batch_size):\n",
    "    results = []\n",
    "    for i in tqdm(range(0, len(texts), batch_size), desc=\"Processing FinBERT Sentiments\"):\n",
    "        batch = texts[i:i + batch_size]\n",
    "        batch_results = finbert(batch)\n",
    "        scores = [get_sentiment_score(result) for result in batch_results]\n",
    "        results.extend(scores)\n",
    "    return results\n",
    "\n",
    "batch_size = 128  \n",
    "tweets['FinBertSentiment'] = process_in_batches(tweets['text'].tolist(), batch_size)\n",
    "\n",
    "daily_sentiment = tweets.groupby('Date').agg(\n",
    "    number_of_tweets=('text', 'count'),\n",
    "    avg_vader_sentiment=('VaderSentiment', 'mean'),\n",
    "    avg_finbert_sentiment=('FinBertSentiment', 'mean')\n",
    ").reset_index()\n",
    "\n",
    "output_path = '/Users/keremsmacbook/Desktop/42/gitHub/Presidential_Tweets_Impacts_SP500/PresidentialTweetsImpectOnS&P500/Data/Processed/daily_sentiment_with_batches.csv'\n",
    "daily_sentiment.to_csv(output_path, index=False)"
   ],
   "metadata": {
    "collapsed": false,
    "ExecuteTime": {
     "end_time": "2024-12-15T06:34:32.278031Z",
     "start_time": "2024-12-15T06:15:33.541151Z"
    }
   },
   "id": "7207b80ca41dba54",
   "execution_count": 57
  },
  {
   "cell_type": "code",
   "outputs": [],
   "source": [
    "daily_vader_sentiment = pd.read_csv('/Users/keremsmacbook/Desktop/42/gitHub/Presidential_Tweets_Impacts_SP500/PresidentialTweetsImpectOnS&P500/Data/Processed/daily_vader_sentiment.csv')\n",
    "daily_vader_sentiment['Date'] = pd.to_datetime(daily_vader_sentiment['Date']).dt.date\n",
    "\n",
    "daily_finbert_sentiment = pd.read_csv(\n",
    "    '/Users/keremsmacbook/Desktop/42/gitHub/Presidential_Tweets_Impacts_SP500/PresidentialTweetsImpectOnS&P500/Data/Processed/daily_sentiment_with_batches.csv'\n",
    ")\n",
    "daily_finbert_sentiment['Date'] = pd.to_datetime(daily_finbert_sentiment['Date']).dt.date\n",
    "\n",
    "sp500 = pd.read_csv('/Users/keremsmacbook/Desktop/42/gitHub/Presidential_Tweets_Impacts_SP500/PresidentialTweetsImpectOnS&P500/Data/Processed/cleaned_sp500_index_prices.csv')\n",
    "sp500['Date'] = pd.to_datetime(sp500['Date']).dt.date  \n",
    "\n",
    "aligned_dataset = pd.merge(sp500, daily_vader_sentiment, on='Date', how='left')\n",
    "aligned_dataset = pd.merge(aligned_dataset, daily_finbert_sentiment, on='Date', how='left')\n",
    "aligned_dataset.fillna(0, inplace=True)\n",
    "\n",
    "aligned_output_path = '/Users/keremsmacbook/Desktop/42/gitHub/Presidential_Tweets_Impacts_SP500/PresidentialTweetsImpectOnS&P500/Data/Processed/aligned_dataset.csv'\n",
    "aligned_dataset.to_csv(aligned_output_path, index=False)"
   ],
   "metadata": {
    "collapsed": false,
    "ExecuteTime": {
     "end_time": "2024-12-15T06:34:37.975767Z",
     "start_time": "2024-12-15T06:34:37.934142Z"
    }
   },
   "id": "294ce5acbe34ac52",
   "execution_count": 58
  },
  {
   "cell_type": "code",
   "outputs": [],
   "source": [],
   "metadata": {
    "collapsed": false
   },
   "id": "fa02d8fc7ecb5aeb"
  }
 ],
 "metadata": {
  "kernelspec": {
   "display_name": "Python 3",
   "language": "python",
   "name": "python3"
  },
  "language_info": {
   "codemirror_mode": {
    "name": "ipython",
    "version": 2
   },
   "file_extension": ".py",
   "mimetype": "text/x-python",
   "name": "python",
   "nbconvert_exporter": "python",
   "pygments_lexer": "ipython2",
   "version": "2.7.6"
  }
 },
 "nbformat": 4,
 "nbformat_minor": 5
}
