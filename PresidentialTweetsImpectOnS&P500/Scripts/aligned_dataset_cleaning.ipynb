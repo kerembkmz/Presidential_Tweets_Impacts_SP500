{
 "cells": [
  {
   "cell_type": "code",
   "execution_count": 2,
   "id": "initial_id",
   "metadata": {
    "collapsed": true,
    "ExecuteTime": {
     "end_time": "2024-12-29T12:53:50.558371Z",
     "start_time": "2024-12-29T12:53:50.541622Z"
    }
   },
   "outputs": [],
   "source": [
    "import pandas as pd\n",
    "\n",
    "file_path = \"/Users/keremsmacbook/Desktop/42/gitHub/Presidential_Tweets_Impacts_SP500/PresidentialTweetsImpectOnS&P500/Data/Processed/aligned_dataset.csv\"\n",
    "df = pd.read_csv(file_path)\n",
    "\n",
    "new_aligned_data = df.drop(columns=['number_of_tweets_y', 'avg_vader_sentiment_score'])\n",
    "\n",
    "new_aligned_data.rename(columns={'number_of_tweets_x': 'number_of_tweets'}, inplace=True)\n",
    "\n",
    "output_path = \"/Users/keremsmacbook/Desktop/42/gitHub/Presidential_Tweets_Impacts_SP500/PresidentialTweetsImpectOnS&P500/Data/Processed/aligned_data.csv\"\n",
    "new_aligned_data.to_csv(output_path, index=False)"
   ]
  },
  {
   "cell_type": "code",
   "outputs": [],
   "source": [],
   "metadata": {
    "collapsed": false
   },
   "id": "a2289f8d47cb028f"
  }
 ],
 "metadata": {
  "kernelspec": {
   "display_name": "Python 3",
   "language": "python",
   "name": "python3"
  },
  "language_info": {
   "codemirror_mode": {
    "name": "ipython",
    "version": 2
   },
   "file_extension": ".py",
   "mimetype": "text/x-python",
   "name": "python",
   "nbconvert_exporter": "python",
   "pygments_lexer": "ipython2",
   "version": "2.7.6"
  }
 },
 "nbformat": 4,
 "nbformat_minor": 5
}
