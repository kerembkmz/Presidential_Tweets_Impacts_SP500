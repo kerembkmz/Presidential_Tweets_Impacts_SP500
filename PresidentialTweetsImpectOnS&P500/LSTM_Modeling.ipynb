{
 "cells": [
  {
   "cell_type": "code",
   "outputs": [],
   "source": [
    "import pandas as pd\n",
    "import numpy as np\n",
    "from sklearn.preprocessing import MinMaxScaler\n",
    "from tensorflow.keras.models import Sequential\n",
    "from tensorflow.keras.layers import LSTM, Dense"
   ],
   "metadata": {
    "collapsed": false,
    "ExecuteTime": {
     "end_time": "2024-12-26T15:49:56.117142Z",
     "start_time": "2024-12-26T15:49:41.335117Z"
    }
   },
   "id": "16257ae87cafc0fd",
   "execution_count": 1
  },
  {
   "cell_type": "code",
   "outputs": [],
   "source": [
    "data = pd.read_csv('/Users/keremsmacbook/Desktop/42/gitHub/Presidential_Tweets_Impacts_SP500/PresidentialTweetsImpectOnS&P500/Data/Processed/aligned_dataset.csv')\n",
    "data['Date'] = pd.to_datetime(data['Date'])"
   ],
   "metadata": {
    "collapsed": false,
    "ExecuteTime": {
     "end_time": "2024-12-26T15:51:52.155841Z",
     "start_time": "2024-12-26T15:51:52.148856Z"
    }
   },
   "id": "4b6312aad74b45c0",
   "execution_count": 8
  },
  {
   "cell_type": "code",
   "outputs": [],
   "source": [
    "scalers = {}\n",
    "def normalize_features(df, features):\n",
    "    for feature in features:\n",
    "        scaler = MinMaxScaler()\n",
    "        df[feature] = scaler.fit_transform(df[[feature]])\n",
    "        scalers[feature] = scaler\n",
    "    return df\n",
    "\n",
    "features = ['Close', 'avg_vader_sentiment', 'avg_finbert_sentiment']\n",
    "data = normalize_features(data, features)\n",
    "\n",
    "def create_sequences(df, feature_columns, target_column, seq_length):\n",
    "    X, y = [], []\n",
    "    for i in range(len(df) - seq_length):\n",
    "        X.append(df[feature_columns].iloc[i:i+seq_length].values)\n",
    "        y.append(df[target_column].iloc[i+seq_length])\n",
    "    return np.array(X), np.array(y)\n",
    "\n",
    "SEQ_LENGTH = 30\n",
    "\n",
    "X_close, y_close = create_sequences(data, feature_columns=['Close'], target_column='Close', seq_length=SEQ_LENGTH)\n",
    "\n",
    "X_close_vader, y_close_vader = create_sequences(\n",
    "    data, feature_columns=['Close', 'avg_vader_sentiment'], target_column='Close', seq_length=SEQ_LENGTH\n",
    ")\n",
    "\n",
    "X_close_finbert, y_close_finbert = create_sequences(\n",
    "    data, feature_columns=['Close', 'avg_finbert_sentiment'], target_column='Close', seq_length=SEQ_LENGTH\n",
    ")"
   ],
   "metadata": {
    "collapsed": false,
    "ExecuteTime": {
     "end_time": "2024-12-26T15:51:53.245540Z",
     "start_time": "2024-12-26T15:51:52.705136Z"
    }
   },
   "id": "31778f2a0c69755c",
   "execution_count": 9
  },
  {
   "cell_type": "code",
   "outputs": [],
   "source": [
    "from keras.src.layers import Dropout\n",
    "\n",
    "\n",
    "def build_lstm(input_shape):\n",
    "    model = Sequential()\n",
    "    model.add(LSTM(50, activation='relu', return_sequences=False, input_shape=input_shape))\n",
    "    model.add(Dense(1))\n",
    "    model.compile(optimizer='adam', loss='mse')\n",
    "    return model\n",
    "\n",
    "from tensorflow.keras.callbacks import EarlyStopping\n",
    "\n",
    "def train_lstm(X_train, y_train, X_test, y_test, input_shape, epochs=300, batch_size=32):\n",
    "    model = build_lstm(input_shape)\n",
    "    early_stopping = EarlyStopping(monitor='val_loss', patience=10, restore_best_weights=True)\n",
    "    history = model.fit(\n",
    "        X_train, y_train, validation_data=(X_test, y_test),\n",
    "        epochs=epochs, batch_size=batch_size, verbose=1, callbacks=[early_stopping]\n",
    "    )\n",
    "    return model, history\n",
    "\n",
    "def train_test_split(X, y, split_ratio=0.8):\n",
    "    split = int(len(X) * split_ratio)\n",
    "    return X[:split], X[split:], y[:split], y[split:]"
   ],
   "metadata": {
    "collapsed": false,
    "ExecuteTime": {
     "end_time": "2024-12-26T16:02:42.963510Z",
     "start_time": "2024-12-26T16:02:42.956334Z"
    }
   },
   "id": "6f5361e03b9bcb21",
   "execution_count": 28
  },
  {
   "cell_type": "code",
   "outputs": [
    {
     "name": "stdout",
     "output_type": "stream",
     "text": [
      "Epoch 1/300\n",
      "25/25 [==============================] - 1s 7ms/step - loss: 0.0300 - val_loss: 0.0062\n",
      "Epoch 2/300\n",
      "25/25 [==============================] - 0s 5ms/step - loss: 0.0036 - val_loss: 0.0027\n",
      "Epoch 3/300\n",
      "25/25 [==============================] - 0s 5ms/step - loss: 0.0023 - val_loss: 0.0038\n",
      "Epoch 4/300\n",
      "25/25 [==============================] - 0s 5ms/step - loss: 0.0018 - val_loss: 0.0036\n",
      "Epoch 5/300\n",
      "25/25 [==============================] - 0s 5ms/step - loss: 0.0016 - val_loss: 0.0029\n",
      "Epoch 6/300\n",
      "25/25 [==============================] - 0s 5ms/step - loss: 0.0014 - val_loss: 0.0029\n",
      "Epoch 7/300\n",
      "25/25 [==============================] - 0s 5ms/step - loss: 0.0012 - val_loss: 0.0025\n",
      "Epoch 8/300\n",
      "25/25 [==============================] - 0s 5ms/step - loss: 0.0010 - val_loss: 0.0034\n",
      "Epoch 9/300\n",
      "25/25 [==============================] - 0s 5ms/step - loss: 9.3421e-04 - val_loss: 0.0036\n",
      "Epoch 10/300\n",
      "25/25 [==============================] - 0s 5ms/step - loss: 8.5749e-04 - val_loss: 0.0030\n",
      "Epoch 11/300\n",
      "25/25 [==============================] - 0s 5ms/step - loss: 0.0010 - val_loss: 0.0032\n",
      "Epoch 12/300\n",
      "25/25 [==============================] - 0s 5ms/step - loss: 7.9436e-04 - val_loss: 0.0054\n",
      "Epoch 13/300\n",
      "25/25 [==============================] - 0s 5ms/step - loss: 8.0911e-04 - val_loss: 0.0044\n",
      "Epoch 14/300\n",
      "25/25 [==============================] - 0s 5ms/step - loss: 9.0598e-04 - val_loss: 0.0038\n",
      "Epoch 15/300\n",
      "25/25 [==============================] - 0s 5ms/step - loss: 9.2408e-04 - val_loss: 0.0033\n",
      "Epoch 16/300\n",
      "25/25 [==============================] - 0s 5ms/step - loss: 8.6036e-04 - val_loss: 0.0057\n",
      "Epoch 17/300\n",
      "25/25 [==============================] - 0s 5ms/step - loss: 9.1038e-04 - val_loss: 0.0034\n",
      "Epoch 1/300\n",
      "25/25 [==============================] - 1s 8ms/step - loss: 0.0516 - val_loss: 0.0038\n",
      "Epoch 2/300\n",
      "25/25 [==============================] - 0s 5ms/step - loss: 0.0098 - val_loss: 0.0039\n",
      "Epoch 3/300\n",
      "25/25 [==============================] - 0s 5ms/step - loss: 0.0044 - val_loss: 0.0145\n",
      "Epoch 4/300\n",
      "25/25 [==============================] - 0s 5ms/step - loss: 0.0028 - val_loss: 0.0067\n",
      "Epoch 5/300\n",
      "25/25 [==============================] - 0s 5ms/step - loss: 0.0021 - val_loss: 0.0028\n",
      "Epoch 6/300\n",
      "25/25 [==============================] - 0s 5ms/step - loss: 0.0015 - val_loss: 0.0061\n",
      "Epoch 7/300\n",
      "25/25 [==============================] - 0s 5ms/step - loss: 0.0010 - val_loss: 0.0094\n",
      "Epoch 8/300\n",
      "25/25 [==============================] - 0s 5ms/step - loss: 9.8013e-04 - val_loss: 0.0122\n",
      "Epoch 9/300\n",
      "25/25 [==============================] - 0s 5ms/step - loss: 8.9820e-04 - val_loss: 0.0156\n",
      "Epoch 10/300\n",
      "25/25 [==============================] - 0s 5ms/step - loss: 8.9654e-04 - val_loss: 0.0113\n",
      "Epoch 11/300\n",
      "25/25 [==============================] - 0s 5ms/step - loss: 9.1393e-04 - val_loss: 0.0067\n",
      "Epoch 12/300\n",
      "25/25 [==============================] - 0s 5ms/step - loss: 9.1602e-04 - val_loss: 0.0247\n",
      "Epoch 13/300\n",
      "25/25 [==============================] - 0s 5ms/step - loss: 0.0011 - val_loss: 0.0067\n",
      "Epoch 14/300\n",
      "25/25 [==============================] - 0s 5ms/step - loss: 8.7021e-04 - val_loss: 0.0152\n",
      "Epoch 15/300\n",
      "25/25 [==============================] - 0s 5ms/step - loss: 8.2050e-04 - val_loss: 0.0093\n",
      "Epoch 1/300\n",
      "25/25 [==============================] - 1s 8ms/step - loss: 0.0464 - val_loss: 0.0344\n",
      "Epoch 2/300\n",
      "25/25 [==============================] - 0s 5ms/step - loss: 0.0069 - val_loss: 0.0043\n",
      "Epoch 3/300\n",
      "25/25 [==============================] - 0s 5ms/step - loss: 0.0027 - val_loss: 0.0040\n",
      "Epoch 4/300\n",
      "25/25 [==============================] - 0s 5ms/step - loss: 0.0021 - val_loss: 0.0031\n",
      "Epoch 5/300\n",
      "25/25 [==============================] - 0s 5ms/step - loss: 0.0018 - val_loss: 0.0032\n",
      "Epoch 6/300\n",
      "25/25 [==============================] - 0s 5ms/step - loss: 0.0015 - val_loss: 0.0021\n",
      "Epoch 7/300\n",
      "25/25 [==============================] - 0s 5ms/step - loss: 0.0013 - val_loss: 0.0030\n",
      "Epoch 8/300\n",
      "25/25 [==============================] - 0s 5ms/step - loss: 0.0011 - val_loss: 0.0128\n",
      "Epoch 9/300\n",
      "25/25 [==============================] - 0s 5ms/step - loss: 0.0013 - val_loss: 0.0030\n",
      "Epoch 10/300\n",
      "25/25 [==============================] - 0s 5ms/step - loss: 0.0013 - val_loss: 0.0039\n",
      "Epoch 11/300\n",
      "25/25 [==============================] - 0s 5ms/step - loss: 0.0012 - val_loss: 0.0059\n",
      "Epoch 12/300\n",
      "25/25 [==============================] - 0s 5ms/step - loss: 9.2505e-04 - val_loss: 0.0115\n",
      "Epoch 13/300\n",
      "25/25 [==============================] - 0s 5ms/step - loss: 9.0462e-04 - val_loss: 0.0219\n",
      "Epoch 14/300\n",
      "25/25 [==============================] - 0s 5ms/step - loss: 9.6166e-04 - val_loss: 0.0133\n",
      "Epoch 15/300\n",
      "25/25 [==============================] - 0s 5ms/step - loss: 8.8319e-04 - val_loss: 0.0093\n",
      "Epoch 16/300\n",
      "25/25 [==============================] - 0s 5ms/step - loss: 8.2337e-04 - val_loss: 0.0122\n"
     ]
    }
   ],
   "source": [
    "X_train_close, X_test_close, y_train_close, y_test_close = train_test_split(X_close, y_close)\n",
    "model_close, history_close = train_lstm(\n",
    "    X_train_close, y_train_close, X_test_close, y_test_close, input_shape=(SEQ_LENGTH, 1)\n",
    ")\n",
    "\n",
    "X_train_close_vader, X_test_close_vader, y_train_close_vader, y_test_close_vader = train_test_split(X_close_vader, y_close_vader)\n",
    "model_close_vader, history_close_vader = train_lstm(\n",
    "    X_train_close_vader, y_train_close_vader, X_test_close_vader, y_test_close_vader, input_shape=(SEQ_LENGTH, 2)\n",
    ")\n",
    "\n",
    "X_train_close_finbert, X_test_close_finbert, y_train_close_finbert, y_test_close_finbert = train_test_split(X_close_finbert, y_close_finbert)\n",
    "model_close_finbert, history_close_finbert = train_lstm(\n",
    "    X_train_close_finbert, y_train_close_finbert, X_test_close_finbert, y_test_close_finbert, input_shape=(SEQ_LENGTH, 2)\n",
    ")\n"
   ],
   "metadata": {
    "collapsed": false,
    "ExecuteTime": {
     "end_time": "2024-12-26T16:02:51.109134Z",
     "start_time": "2024-12-26T16:02:43.494997Z"
    }
   },
   "id": "d755cd3e5a0cfcf8",
   "execution_count": 29
  },
  {
   "cell_type": "code",
   "outputs": [
    {
     "name": "stdout",
     "output_type": "stream",
     "text": [
      "Scenario 1: Close only\n",
      "7/7 [==============================] - 0s 2ms/step\n",
      "MSE: 5848.796328484404, RMSE: 76.47742365224134, R²: 0.9381592673464991, MAPE: 1.9269371275303686%\n",
      "\n",
      "Scenario 2: Close + Vader Sentiment\n",
      "7/7 [==============================] - 0s 2ms/step\n",
      "MSE: 6432.939665909325, RMSE: 80.20560869359028, R²: 0.9319829791100477, MAPE: 2.0770193573453573%\n",
      "\n",
      "Scenario 3: Close + FinBERT Sentiment\n",
      "7/7 [==============================] - 0s 2ms/step\n",
      "MSE: 4785.912170385523, RMSE: 69.18028744075528, R²: 0.9493973976165724, MAPE: 1.7274171371515195%\n"
     ]
    }
   ],
   "source": [
    "from sklearn.metrics import mean_squared_error, r2_score\n",
    "\n",
    "def evaluate_model(model, X_test, y_test, scaler):\n",
    "    predictions = model.predict(X_test)\n",
    "\n",
    "    predictions = scaler.inverse_transform(predictions)\n",
    "    y_test = scaler.inverse_transform(y_test.reshape(-1, 1))\n",
    "\n",
    "    mse = mean_squared_error(y_test, predictions)\n",
    "    rmse = np.sqrt(mse)\n",
    "    r2 = r2_score(y_test, predictions)\n",
    "\n",
    "    epsilon = 1e-10\n",
    "    mape = np.mean(np.abs((y_test - predictions) / (y_test + epsilon))) * 100\n",
    "\n",
    "    return mse, rmse, r2, mape\n",
    "\n",
    "print(\"Scenario 1: Close only\")\n",
    "mse_close, rmse_close, r2_close, mape_close = evaluate_model(\n",
    "    model_close, X_test_close, y_test_close, scalers['Close']\n",
    ")\n",
    "print(f\"MSE: {mse_close}, RMSE: {rmse_close}, R²: {r2_close}, MAPE: {mape_close}%\")\n",
    "\n",
    "print(\"\\nScenario 2: Close + Vader Sentiment\")\n",
    "mse_close_vader, rmse_close_vader, r2_close_vader, mape_close_vader = evaluate_model(\n",
    "    model_close_vader, X_test_close_vader, y_test_close_vader, scalers['Close']\n",
    ")\n",
    "print(f\"MSE: {mse_close_vader}, RMSE: {rmse_close_vader}, R²: {r2_close_vader}, MAPE: {mape_close_vader}%\")\n",
    "\n",
    "print(\"\\nScenario 3: Close + FinBERT Sentiment\")\n",
    "mse_close_finbert, rmse_close_finbert, r2_close_finbert, mape_close_finbert = evaluate_model(\n",
    "    model_close_finbert, X_test_close_finbert, y_test_close_finbert, scalers['Close']\n",
    ")\n",
    "print(f\"MSE: {mse_close_finbert}, RMSE: {rmse_close_finbert}, R²: {r2_close_finbert}, MAPE: {mape_close_finbert}%\")\n"
   ],
   "metadata": {
    "collapsed": false,
    "ExecuteTime": {
     "end_time": "2024-12-26T16:02:56.802050Z",
     "start_time": "2024-12-26T16:02:56.522305Z"
    }
   },
   "id": "d7ec2f64cd990314",
   "execution_count": 30
  },
  {
   "cell_type": "code",
   "outputs": [],
   "source": [],
   "metadata": {
    "collapsed": false
   },
   "id": "ad771fa7d868fc93"
  }
 ],
 "metadata": {
  "kernelspec": {
   "display_name": "Python 3",
   "language": "python",
   "name": "python3"
  },
  "language_info": {
   "codemirror_mode": {
    "name": "ipython",
    "version": 2
   },
   "file_extension": ".py",
   "mimetype": "text/x-python",
   "name": "python",
   "nbconvert_exporter": "python",
   "pygments_lexer": "ipython2",
   "version": "2.7.6"
  }
 },
 "nbformat": 4,
 "nbformat_minor": 5
}
